{
 "metadata": {
  "language_info": {
   "codemirror_mode": {
    "name": "ipython",
    "version": 3
   },
   "file_extension": ".py",
   "mimetype": "text/x-python",
   "name": "python",
   "nbconvert_exporter": "python",
   "pygments_lexer": "ipython3",
   "version": "3.8.3-final"
  },
  "orig_nbformat": 2,
  "kernelspec": {
   "name": "Python 3.8.3 64-bit ('anaconda3': virtualenv)",
   "display_name": "Python 3.8.3 64-bit ('anaconda3': virtualenv)",
   "metadata": {
    "interpreter": {
     "hash": "dca0ade3e726a953b501b15e8e990130d2b7799f14cfd9f4271676035ebe5511"
    }
   }
  }
 },
 "nbformat": 4,
 "nbformat_minor": 2,
 "cells": [
  {
   "cell_type": "code",
   "execution_count": 17,
   "metadata": {},
   "outputs": [
    {
     "output_type": "execute_result",
     "data": {
      "text/plain": [
       "True"
      ]
     },
     "metadata": {},
     "execution_count": 17
    }
   ],
   "source": [
    "from dotenv import load_dotenv\n",
    "import os\n",
    "load_dotenv()\n",
    "import pandas as pd \n",
    "import alpaca_trade_api as tradeapi \n",
    "load_dotenv()"
   ]
  },
  {
   "cell_type": "code",
   "execution_count": 18,
   "metadata": {},
   "outputs": [],
   "source": [
    "alpaca_api_key = os.getenv(\"APCA_API_KEY\")\n",
    "alpaca_secret_key= os.getenv(\"APCA_API_SECRET\")"
   ]
  },
  {
   "cell_type": "code",
   "execution_count": 19,
   "metadata": {},
   "outputs": [],
   "source": [
    "alpaca = tradeapi.REST(\n",
    "    alpaca_api_key,\n",
    "    alpaca_secret_key,\n",
    "    api_version=\"v2\"\n",
    ")"
   ]
  },
  {
   "cell_type": "code",
   "execution_count": 20,
   "metadata": {},
   "outputs": [],
   "source": [
    "today = pd.Timestamp(\"2020-10-08\").isoformat()"
   ]
  },
  {
   "cell_type": "code",
   "execution_count": 36,
   "metadata": {},
   "outputs": [],
   "source": [
    "copdata = alpaca.get_barset([\"COP\", \"MSFT\", \"TSLA\"], \"1D\").df"
   ]
  },
  {
   "cell_type": "code",
   "execution_count": 35,
   "metadata": {},
   "outputs": [
    {
     "output_type": "execute_result",
     "data": {
      "text/plain": [
       "2020-05-19 00:00:00-04:00    42.67\n",
       "2020-05-20 00:00:00-04:00    44.16\n",
       "2020-05-21 00:00:00-04:00    43.72\n",
       "2020-05-22 00:00:00-04:00    43.28\n",
       "2020-05-26 00:00:00-04:00    43.67\n",
       "                             ...  \n",
       "2020-10-02 00:00:00-04:00    33.06\n",
       "2020-10-05 00:00:00-04:00    34.28\n",
       "2020-10-06 00:00:00-04:00    33.29\n",
       "2020-10-07 00:00:00-04:00    34.33\n",
       "2020-10-08 00:00:00-04:00    35.53\n",
       "Name: close, Length: 100, dtype: float64"
      ]
     },
     "metadata": {},
     "execution_count": 35
    }
   ],
   "source": [
    "copdata[\"COP\"][\"close\"]"
   ]
  },
  {
   "cell_type": "code",
   "execution_count": 37,
   "metadata": {},
   "outputs": [
    {
     "output_type": "execute_result",
     "data": {
      "text/plain": [
       "                             COP                                     MSFT  \\\n",
       "                            open     high     low  close   volume    open   \n",
       "2020-05-19 00:00:00-04:00  43.70  43.8798  42.610  42.67  5350273  185.03   \n",
       "2020-05-20 00:00:00-04:00  43.59  44.8000  43.300  44.16  5690336  184.81   \n",
       "2020-05-21 00:00:00-04:00  44.39  44.8700  43.620  43.72  5729634  185.40   \n",
       "2020-05-22 00:00:00-04:00  42.91  43.3600  42.300  43.28  4088246  183.19   \n",
       "2020-05-26 00:00:00-04:00  44.81  45.1200  43.495  43.67  6687587  186.34   \n",
       "\n",
       "                                                                 TSLA          \\\n",
       "                             high     low   close    volume      open    high   \n",
       "2020-05-19 00:00:00-04:00  186.59  183.49  183.50  23888140  815.1700  822.07   \n",
       "2020-05-20 00:00:00-04:00  185.85  183.94  185.66  51732326  820.5000  826.00   \n",
       "2020-05-21 00:00:00-04:00  186.67  183.30  183.49  25273422  816.0000  832.50   \n",
       "2020-05-22 00:00:00-04:00  184.46  182.54  183.51  18361237  822.1735  831.78   \n",
       "2020-05-26 00:00:00-04:00  186.50  181.10  181.56  28773423  834.5000  834.60   \n",
       "\n",
       "                                                      \n",
       "                               low   close    volume  \n",
       "2020-05-19 00:00:00-04:00  806.080  808.00   9331427  \n",
       "2020-05-20 00:00:00-04:00  811.800  815.46  13799592  \n",
       "2020-05-21 00:00:00-04:00  796.000  827.75  23543511  \n",
       "2020-05-22 00:00:00-04:00  812.000  816.40  19439642  \n",
       "2020-05-26 00:00:00-04:00  815.705  818.74   7532731  "
      ],
      "text/html": "<div>\n<style scoped>\n    .dataframe tbody tr th:only-of-type {\n        vertical-align: middle;\n    }\n\n    .dataframe tbody tr th {\n        vertical-align: top;\n    }\n\n    .dataframe thead tr th {\n        text-align: left;\n    }\n</style>\n<table border=\"1\" class=\"dataframe\">\n  <thead>\n    <tr>\n      <th></th>\n      <th colspan=\"5\" halign=\"left\">COP</th>\n      <th colspan=\"5\" halign=\"left\">MSFT</th>\n      <th colspan=\"5\" halign=\"left\">TSLA</th>\n    </tr>\n    <tr>\n      <th></th>\n      <th>open</th>\n      <th>high</th>\n      <th>low</th>\n      <th>close</th>\n      <th>volume</th>\n      <th>open</th>\n      <th>high</th>\n      <th>low</th>\n      <th>close</th>\n      <th>volume</th>\n      <th>open</th>\n      <th>high</th>\n      <th>low</th>\n      <th>close</th>\n      <th>volume</th>\n    </tr>\n  </thead>\n  <tbody>\n    <tr>\n      <th>2020-05-19 00:00:00-04:00</th>\n      <td>43.70</td>\n      <td>43.8798</td>\n      <td>42.610</td>\n      <td>42.67</td>\n      <td>5350273</td>\n      <td>185.03</td>\n      <td>186.59</td>\n      <td>183.49</td>\n      <td>183.50</td>\n      <td>23888140</td>\n      <td>815.1700</td>\n      <td>822.07</td>\n      <td>806.080</td>\n      <td>808.00</td>\n      <td>9331427</td>\n    </tr>\n    <tr>\n      <th>2020-05-20 00:00:00-04:00</th>\n      <td>43.59</td>\n      <td>44.8000</td>\n      <td>43.300</td>\n      <td>44.16</td>\n      <td>5690336</td>\n      <td>184.81</td>\n      <td>185.85</td>\n      <td>183.94</td>\n      <td>185.66</td>\n      <td>51732326</td>\n      <td>820.5000</td>\n      <td>826.00</td>\n      <td>811.800</td>\n      <td>815.46</td>\n      <td>13799592</td>\n    </tr>\n    <tr>\n      <th>2020-05-21 00:00:00-04:00</th>\n      <td>44.39</td>\n      <td>44.8700</td>\n      <td>43.620</td>\n      <td>43.72</td>\n      <td>5729634</td>\n      <td>185.40</td>\n      <td>186.67</td>\n      <td>183.30</td>\n      <td>183.49</td>\n      <td>25273422</td>\n      <td>816.0000</td>\n      <td>832.50</td>\n      <td>796.000</td>\n      <td>827.75</td>\n      <td>23543511</td>\n    </tr>\n    <tr>\n      <th>2020-05-22 00:00:00-04:00</th>\n      <td>42.91</td>\n      <td>43.3600</td>\n      <td>42.300</td>\n      <td>43.28</td>\n      <td>4088246</td>\n      <td>183.19</td>\n      <td>184.46</td>\n      <td>182.54</td>\n      <td>183.51</td>\n      <td>18361237</td>\n      <td>822.1735</td>\n      <td>831.78</td>\n      <td>812.000</td>\n      <td>816.40</td>\n      <td>19439642</td>\n    </tr>\n    <tr>\n      <th>2020-05-26 00:00:00-04:00</th>\n      <td>44.81</td>\n      <td>45.1200</td>\n      <td>43.495</td>\n      <td>43.67</td>\n      <td>6687587</td>\n      <td>186.34</td>\n      <td>186.50</td>\n      <td>181.10</td>\n      <td>181.56</td>\n      <td>28773423</td>\n      <td>834.5000</td>\n      <td>834.60</td>\n      <td>815.705</td>\n      <td>818.74</td>\n      <td>7532731</td>\n    </tr>\n  </tbody>\n</table>\n</div>"
     },
     "metadata": {},
     "execution_count": 37
    }
   ],
   "source": [
    "copdata.head()"
   ]
  },
  {
   "cell_type": "code",
   "execution_count": null,
   "metadata": {},
   "outputs": [],
   "source": []
  }
 ]
}